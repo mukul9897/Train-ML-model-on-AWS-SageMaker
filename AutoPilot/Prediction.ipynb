{
 "cells": [
  {
   "cell_type": "code",
   "execution_count": 9,
   "metadata": {},
   "outputs": [],
   "source": [
    "ep_name = \"Heart\""
   ]
  },
  {
   "cell_type": "code",
   "execution_count": 10,
   "metadata": {},
   "outputs": [],
   "source": [
    "import boto3,sys\n",
    "\n",
    "sm_rt = boto3.Session().client('runtime.sagemaker')"
   ]
  },
  {
   "cell_type": "code",
   "execution_count": 22,
   "metadata": {},
   "outputs": [
    {
     "name": "stdout",
     "output_type": "stream",
     "text": [
      "40,M,ATA,140,289,0,Normal,172,N,0,Up\n",
      "label 0\n",
      " response 0\n",
      "\n",
      "49,F,NAP,160,180,0,Normal,156,N,1,Flat\n",
      "label 1\n",
      " response 1\n",
      "\n",
      "37,M,ATA,130,283,0,ST,98,N,0,Up\n",
      "label 0\n",
      " response 0\n",
      "\n",
      "48,F,ASY,138,214,0,Normal,108,Y,1.5,Flat\n",
      "label 1\n",
      " response 1\n",
      "\n",
      "54,M,NAP,150,195,0,Normal,122,N,0,Up\n",
      "label 0\n",
      " response 0\n",
      "\n",
      "39,M,NAP,120,339,0,Normal,170,N,0,Up\n",
      "label 0\n",
      " response 0\n",
      "\n",
      "45,F,ATA,130,237,0,Normal,170,N,0,Up\n",
      "label 0\n",
      " response 0\n",
      "\n",
      "54,M,ATA,110,208,0,Normal,142,N,0,Up\n",
      "label 0\n",
      " response 0\n",
      "\n"
     ]
    }
   ],
   "source": [
    "tp = tn = fp = fn = count = 0\n",
    "\n",
    "with open('Sample_deploy.csv') as f:\n",
    "    lines = f.readlines()\n",
    "    for l in lines[1:]:   # Skip header\n",
    "        l = l.split(',')  # Split CSV line into features\n",
    "        label = l[-1]     # Store 0 / 1 label\n",
    "        l = l[:-1]        # Remove label\n",
    "        l = ','.join(l)   # Rebuild CSV line without label\n",
    "        print(l)\n",
    "                \n",
    "        response = sm_rt.invoke_endpoint(EndpointName=ep_name, ContentType='text/csv', Accept='text/csv', Body=l)\n",
    "        response = response['Body'].read().decode(\"utf-8\")\n",
    "        print (\"label %s response %s\" %(label,response))"
   ]
  },
  {
   "cell_type": "code",
   "execution_count": null,
   "metadata": {},
   "outputs": [],
   "source": []
  }
 ],
 "metadata": {
  "instance_type": "ml.t3.medium",
  "kernelspec": {
   "display_name": "Python 3 (Data Science)",
   "language": "python",
   "name": "python3__SAGEMAKER_INTERNAL__arn:aws:sagemaker:us-east-2:429704687514:image/datascience-1.0"
  },
  "language_info": {
   "codemirror_mode": {
    "name": "ipython",
    "version": 3
   },
   "file_extension": ".py",
   "mimetype": "text/x-python",
   "name": "python",
   "nbconvert_exporter": "python",
   "pygments_lexer": "ipython3",
   "version": "3.7.10"
  }
 },
 "nbformat": 4,
 "nbformat_minor": 4
}
